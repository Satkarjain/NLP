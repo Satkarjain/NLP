{
  "nbformat": 4,
  "nbformat_minor": 0,
  "metadata": {
    "colab": {
      "name": "Size recommendation ",
      "provenance": [],
      "mount_file_id": "16WzBdx5CLTx-TaEeEEgmi11c-Wxy1rgX",
      "authorship_tag": "ABX9TyNyx/PpP4k0QmfoE9/Yixm+",
      "include_colab_link": true
    },
    "kernelspec": {
      "name": "python3",
      "display_name": "Python 3"
    }
  },
  "cells": [
    {
      "cell_type": "markdown",
      "metadata": {
        "id": "view-in-github",
        "colab_type": "text"
      },
      "source": [
        "<a href=\"https://colab.research.google.com/github/Satkarjain/NLP/blob/master/Size_recommendation.ipynb\" target=\"_parent\"><img src=\"https://colab.research.google.com/assets/colab-badge.svg\" alt=\"Open In Colab\"/></a>"
      ]
    },
    {
      "cell_type": "code",
      "metadata": {
        "id": "8r803GHtfoOi",
        "colab_type": "code",
        "outputId": "c07642e8-c122-40ef-c26f-0cb58698c2f0",
        "colab": {
          "base_uri": "https://localhost:8080/",
          "height": 70
        }
      },
      "source": [
        "import pandas as pd\n",
        "import json\n",
        "import re\n",
        "import numpy as np\n",
        "import seaborn as sns\n",
        "import matplotlib.pyplot as plt\n"
      ],
      "execution_count": 0,
      "outputs": [
        {
          "output_type": "stream",
          "text": [
            "/usr/local/lib/python3.6/dist-packages/statsmodels/tools/_testing.py:19: FutureWarning: pandas.util.testing is deprecated. Use the functions in the public API at pandas.testing instead.\n",
            "  import pandas.util.testing as tm\n"
          ],
          "name": "stderr"
        }
      ]
    },
    {
      "cell_type": "code",
      "metadata": {
        "id": "5ffBudM0f7ID",
        "colab_type": "code",
        "colab": {}
      },
      "source": [
        "items_details =[]\n",
        "file_name1 = \"/content/drive/My Drive/item_details.json\"\n",
        "for line in open(file_name1, 'r'):\n",
        "    items_details.append(json.loads(line))\n",
        "    \n",
        "df_items = pd.DataFrame(items_details)"
      ],
      "execution_count": 0,
      "outputs": []
    },
    {
      "cell_type": "code",
      "metadata": {
        "id": "HPKzQ0PWoMt_",
        "colab_type": "code",
        "outputId": "f52b229c-b863-45bc-94d4-4e50fe5bfa76",
        "colab": {
          "base_uri": "https://localhost:8080/",
          "height": 34
        }
      },
      "source": [
        "df_items.shape"
      ],
      "execution_count": 0,
      "outputs": [
        {
          "output_type": "execute_result",
          "data": {
            "text/plain": [
              "(82790, 18)"
            ]
          },
          "metadata": {
            "tags": []
          },
          "execution_count": 3
        }
      ]
    },
    {
      "cell_type": "code",
      "metadata": {
        "id": "f-cH4_W6MrH_",
        "colab_type": "code",
        "outputId": "942abb1e-4fa3-4e73-df9e-f952b656b573",
        "colab": {
          "base_uri": "https://localhost:8080/",
          "height": 316
        }
      },
      "source": [
        "df_items.head()"
      ],
      "execution_count": 0,
      "outputs": [
        {
          "output_type": "execute_result",
          "data": {
            "text/html": [
              "<div>\n",
              "<style scoped>\n",
              "    .dataframe tbody tr th:only-of-type {\n",
              "        vertical-align: middle;\n",
              "    }\n",
              "\n",
              "    .dataframe tbody tr th {\n",
              "        vertical-align: top;\n",
              "    }\n",
              "\n",
              "    .dataframe thead th {\n",
              "        text-align: right;\n",
              "    }\n",
              "</style>\n",
              "<table border=\"1\" class=\"dataframe\">\n",
              "  <thead>\n",
              "    <tr style=\"text-align: right;\">\n",
              "      <th></th>\n",
              "      <th>item_id</th>\n",
              "      <th>waist</th>\n",
              "      <th>size</th>\n",
              "      <th>quality</th>\n",
              "      <th>cup size</th>\n",
              "      <th>hips</th>\n",
              "      <th>bra size</th>\n",
              "      <th>category</th>\n",
              "      <th>bust</th>\n",
              "      <th>height</th>\n",
              "      <th>user_name</th>\n",
              "      <th>length</th>\n",
              "      <th>fit</th>\n",
              "      <th>user_id</th>\n",
              "      <th>shoe size</th>\n",
              "      <th>shoe width</th>\n",
              "      <th>review_summary</th>\n",
              "      <th>review_text</th>\n",
              "    </tr>\n",
              "  </thead>\n",
              "  <tbody>\n",
              "    <tr>\n",
              "      <th>0</th>\n",
              "      <td>123373</td>\n",
              "      <td>29</td>\n",
              "      <td>7</td>\n",
              "      <td>5.0</td>\n",
              "      <td>d</td>\n",
              "      <td>38</td>\n",
              "      <td>34</td>\n",
              "      <td>new</td>\n",
              "      <td>36</td>\n",
              "      <td>5ft 6in</td>\n",
              "      <td>Emily</td>\n",
              "      <td>just right</td>\n",
              "      <td>small</td>\n",
              "      <td>991571</td>\n",
              "      <td>NaN</td>\n",
              "      <td>NaN</td>\n",
              "      <td>NaN</td>\n",
              "      <td>NaN</td>\n",
              "    </tr>\n",
              "    <tr>\n",
              "      <th>1</th>\n",
              "      <td>123373</td>\n",
              "      <td>31</td>\n",
              "      <td>13</td>\n",
              "      <td>3.0</td>\n",
              "      <td>b</td>\n",
              "      <td>30</td>\n",
              "      <td>36</td>\n",
              "      <td>new</td>\n",
              "      <td>NaN</td>\n",
              "      <td>5ft 2in</td>\n",
              "      <td>sydneybraden2001</td>\n",
              "      <td>just right</td>\n",
              "      <td>small</td>\n",
              "      <td>587883</td>\n",
              "      <td>NaN</td>\n",
              "      <td>NaN</td>\n",
              "      <td>NaN</td>\n",
              "      <td>NaN</td>\n",
              "    </tr>\n",
              "    <tr>\n",
              "      <th>2</th>\n",
              "      <td>123373</td>\n",
              "      <td>30</td>\n",
              "      <td>7</td>\n",
              "      <td>2.0</td>\n",
              "      <td>b</td>\n",
              "      <td>NaN</td>\n",
              "      <td>32</td>\n",
              "      <td>new</td>\n",
              "      <td>NaN</td>\n",
              "      <td>5ft 7in</td>\n",
              "      <td>Ugggh</td>\n",
              "      <td>slightly long</td>\n",
              "      <td>small</td>\n",
              "      <td>395665</td>\n",
              "      <td>9.00</td>\n",
              "      <td>NaN</td>\n",
              "      <td>NaN</td>\n",
              "      <td>NaN</td>\n",
              "    </tr>\n",
              "    <tr>\n",
              "      <th>3</th>\n",
              "      <td>123373</td>\n",
              "      <td>NaN</td>\n",
              "      <td>21</td>\n",
              "      <td>5.0</td>\n",
              "      <td>dd/e</td>\n",
              "      <td>NaN</td>\n",
              "      <td>NaN</td>\n",
              "      <td>new</td>\n",
              "      <td>NaN</td>\n",
              "      <td>NaN</td>\n",
              "      <td>alexmeyer626</td>\n",
              "      <td>just right</td>\n",
              "      <td>fit</td>\n",
              "      <td>875643</td>\n",
              "      <td>NaN</td>\n",
              "      <td>NaN</td>\n",
              "      <td>NaN</td>\n",
              "      <td>NaN</td>\n",
              "    </tr>\n",
              "    <tr>\n",
              "      <th>4</th>\n",
              "      <td>123373</td>\n",
              "      <td>NaN</td>\n",
              "      <td>18</td>\n",
              "      <td>5.0</td>\n",
              "      <td>b</td>\n",
              "      <td>NaN</td>\n",
              "      <td>36</td>\n",
              "      <td>new</td>\n",
              "      <td>NaN</td>\n",
              "      <td>5ft 2in</td>\n",
              "      <td>dberrones1</td>\n",
              "      <td>slightly long</td>\n",
              "      <td>small</td>\n",
              "      <td>944840</td>\n",
              "      <td>NaN</td>\n",
              "      <td>NaN</td>\n",
              "      <td>NaN</td>\n",
              "      <td>NaN</td>\n",
              "    </tr>\n",
              "  </tbody>\n",
              "</table>\n",
              "</div>"
            ],
            "text/plain": [
              "  item_id waist  size  quality  ... shoe size shoe width review_summary review_text\n",
              "0  123373    29     7      5.0  ...       NaN        NaN            NaN         NaN\n",
              "1  123373    31    13      3.0  ...       NaN        NaN            NaN         NaN\n",
              "2  123373    30     7      2.0  ...      9.00        NaN            NaN         NaN\n",
              "3  123373   NaN    21      5.0  ...       NaN        NaN            NaN         NaN\n",
              "4  123373   NaN    18      5.0  ...       NaN        NaN            NaN         NaN\n",
              "\n",
              "[5 rows x 18 columns]"
            ]
          },
          "metadata": {
            "tags": []
          },
          "execution_count": 4
        }
      ]
    },
    {
      "cell_type": "code",
      "metadata": {
        "id": "JotV8dXxp8r8",
        "colab_type": "code",
        "colab": {}
      },
      "source": [
        "df_items.columns = ['item_id', 'waist', 'size', 'quality', 'cup_size', 'hips', 'bra_size',\n",
        "       'category', 'bust', 'height', 'user_name', 'length', 'fit', 'user_id',\n",
        "       'shoe_size', 'shoe_width', 'review_summary', 'review_text']"
      ],
      "execution_count": 0,
      "outputs": []
    },
    {
      "cell_type": "code",
      "metadata": {
        "id": "-S3csmSGss7s",
        "colab_type": "code",
        "outputId": "6101b861-ea2a-429e-f9b5-944524493d45",
        "colab": {
          "base_uri": "https://localhost:8080/",
          "height": 336
        }
      },
      "source": [
        "df_items.dtypes"
      ],
      "execution_count": 0,
      "outputs": [
        {
          "output_type": "execute_result",
          "data": {
            "text/plain": [
              "item_id            object\n",
              "waist              object\n",
              "size                int64\n",
              "quality           float64\n",
              "cup_size           object\n",
              "hips               object\n",
              "bra_size           object\n",
              "category           object\n",
              "bust               object\n",
              "height             object\n",
              "user_name          object\n",
              "length             object\n",
              "fit                object\n",
              "user_id            object\n",
              "shoe_size          object\n",
              "shoe_width         object\n",
              "review_summary     object\n",
              "review_text        object\n",
              "dtype: object"
            ]
          },
          "metadata": {
            "tags": []
          },
          "execution_count": 6
        }
      ]
    },
    {
      "cell_type": "code",
      "metadata": {
        "id": "BNcg5s09qdBA",
        "colab_type": "code",
        "outputId": "f6f590f3-be87-4192-ef1f-b8d5ee1055a7",
        "colab": {
          "base_uri": "https://localhost:8080/",
          "height": 299
        }
      },
      "source": [
        "df_items.head()"
      ],
      "execution_count": 0,
      "outputs": [
        {
          "output_type": "execute_result",
          "data": {
            "text/html": [
              "<div>\n",
              "<style scoped>\n",
              "    .dataframe tbody tr th:only-of-type {\n",
              "        vertical-align: middle;\n",
              "    }\n",
              "\n",
              "    .dataframe tbody tr th {\n",
              "        vertical-align: top;\n",
              "    }\n",
              "\n",
              "    .dataframe thead th {\n",
              "        text-align: right;\n",
              "    }\n",
              "</style>\n",
              "<table border=\"1\" class=\"dataframe\">\n",
              "  <thead>\n",
              "    <tr style=\"text-align: right;\">\n",
              "      <th></th>\n",
              "      <th>item_id</th>\n",
              "      <th>waist</th>\n",
              "      <th>size</th>\n",
              "      <th>quality</th>\n",
              "      <th>cup_size</th>\n",
              "      <th>hips</th>\n",
              "      <th>bra_size</th>\n",
              "      <th>category</th>\n",
              "      <th>bust</th>\n",
              "      <th>height</th>\n",
              "      <th>user_name</th>\n",
              "      <th>length</th>\n",
              "      <th>fit</th>\n",
              "      <th>user_id</th>\n",
              "      <th>shoe_size</th>\n",
              "      <th>shoe_width</th>\n",
              "      <th>review_summary</th>\n",
              "      <th>review_text</th>\n",
              "    </tr>\n",
              "  </thead>\n",
              "  <tbody>\n",
              "    <tr>\n",
              "      <th>0</th>\n",
              "      <td>123373</td>\n",
              "      <td>29</td>\n",
              "      <td>7</td>\n",
              "      <td>5.0</td>\n",
              "      <td>d</td>\n",
              "      <td>38</td>\n",
              "      <td>34</td>\n",
              "      <td>new</td>\n",
              "      <td>36</td>\n",
              "      <td>5ft 6in</td>\n",
              "      <td>Emily</td>\n",
              "      <td>just right</td>\n",
              "      <td>small</td>\n",
              "      <td>991571</td>\n",
              "      <td>NaN</td>\n",
              "      <td>NaN</td>\n",
              "      <td>NaN</td>\n",
              "      <td>NaN</td>\n",
              "    </tr>\n",
              "    <tr>\n",
              "      <th>1</th>\n",
              "      <td>123373</td>\n",
              "      <td>31</td>\n",
              "      <td>13</td>\n",
              "      <td>3.0</td>\n",
              "      <td>b</td>\n",
              "      <td>30</td>\n",
              "      <td>36</td>\n",
              "      <td>new</td>\n",
              "      <td>NaN</td>\n",
              "      <td>5ft 2in</td>\n",
              "      <td>sydneybraden2001</td>\n",
              "      <td>just right</td>\n",
              "      <td>small</td>\n",
              "      <td>587883</td>\n",
              "      <td>NaN</td>\n",
              "      <td>NaN</td>\n",
              "      <td>NaN</td>\n",
              "      <td>NaN</td>\n",
              "    </tr>\n",
              "    <tr>\n",
              "      <th>2</th>\n",
              "      <td>123373</td>\n",
              "      <td>30</td>\n",
              "      <td>7</td>\n",
              "      <td>2.0</td>\n",
              "      <td>b</td>\n",
              "      <td>NaN</td>\n",
              "      <td>32</td>\n",
              "      <td>new</td>\n",
              "      <td>NaN</td>\n",
              "      <td>5ft 7in</td>\n",
              "      <td>Ugggh</td>\n",
              "      <td>slightly long</td>\n",
              "      <td>small</td>\n",
              "      <td>395665</td>\n",
              "      <td>9.00</td>\n",
              "      <td>NaN</td>\n",
              "      <td>NaN</td>\n",
              "      <td>NaN</td>\n",
              "    </tr>\n",
              "    <tr>\n",
              "      <th>3</th>\n",
              "      <td>123373</td>\n",
              "      <td>NaN</td>\n",
              "      <td>21</td>\n",
              "      <td>5.0</td>\n",
              "      <td>dd/e</td>\n",
              "      <td>NaN</td>\n",
              "      <td>NaN</td>\n",
              "      <td>new</td>\n",
              "      <td>NaN</td>\n",
              "      <td>NaN</td>\n",
              "      <td>alexmeyer626</td>\n",
              "      <td>just right</td>\n",
              "      <td>fit</td>\n",
              "      <td>875643</td>\n",
              "      <td>NaN</td>\n",
              "      <td>NaN</td>\n",
              "      <td>NaN</td>\n",
              "      <td>NaN</td>\n",
              "    </tr>\n",
              "    <tr>\n",
              "      <th>4</th>\n",
              "      <td>123373</td>\n",
              "      <td>NaN</td>\n",
              "      <td>18</td>\n",
              "      <td>5.0</td>\n",
              "      <td>b</td>\n",
              "      <td>NaN</td>\n",
              "      <td>36</td>\n",
              "      <td>new</td>\n",
              "      <td>NaN</td>\n",
              "      <td>5ft 2in</td>\n",
              "      <td>dberrones1</td>\n",
              "      <td>slightly long</td>\n",
              "      <td>small</td>\n",
              "      <td>944840</td>\n",
              "      <td>NaN</td>\n",
              "      <td>NaN</td>\n",
              "      <td>NaN</td>\n",
              "      <td>NaN</td>\n",
              "    </tr>\n",
              "  </tbody>\n",
              "</table>\n",
              "</div>"
            ],
            "text/plain": [
              "  item_id waist  size  quality  ... shoe_size shoe_width review_summary review_text\n",
              "0  123373    29     7      5.0  ...       NaN        NaN            NaN         NaN\n",
              "1  123373    31    13      3.0  ...       NaN        NaN            NaN         NaN\n",
              "2  123373    30     7      2.0  ...      9.00        NaN            NaN         NaN\n",
              "3  123373   NaN    21      5.0  ...       NaN        NaN            NaN         NaN\n",
              "4  123373   NaN    18      5.0  ...       NaN        NaN            NaN         NaN\n",
              "\n",
              "[5 rows x 18 columns]"
            ]
          },
          "metadata": {
            "tags": []
          },
          "execution_count": 7
        }
      ]
    },
    {
      "cell_type": "code",
      "metadata": {
        "id": "WAu3x5jjqihp",
        "colab_type": "code",
        "outputId": "4d61d0b9-5d21-4d75-8ca3-f66492f8c64c",
        "colab": {
          "base_uri": "https://localhost:8080/",
          "height": 34
        }
      },
      "source": [
        "df_items[\"item_id\"].nunique()"
      ],
      "execution_count": 0,
      "outputs": [
        {
          "output_type": "execute_result",
          "data": {
            "text/plain": [
              "1378"
            ]
          },
          "metadata": {
            "tags": []
          },
          "execution_count": 8
        }
      ]
    },
    {
      "cell_type": "code",
      "metadata": {
        "id": "poZa-mrBqpZW",
        "colab_type": "code",
        "outputId": "be0fbc3d-95e0-42e8-9e78-1ffa49c5cd64",
        "colab": {
          "base_uri": "https://localhost:8080/",
          "height": 34
        }
      },
      "source": [
        "df_items[\"user_id\"].nunique()"
      ],
      "execution_count": 0,
      "outputs": [
        {
          "output_type": "execute_result",
          "data": {
            "text/plain": [
              "47958"
            ]
          },
          "metadata": {
            "tags": []
          },
          "execution_count": 9
        }
      ]
    },
    {
      "cell_type": "code",
      "metadata": {
        "id": "kqKymAlYqyJL",
        "colab_type": "code",
        "colab": {}
      },
      "source": [
        "def get_cms(x):\n",
        "    if type(x) == type(1.0):\n",
        "        return\n",
        "    #print(x)\n",
        "    try: \n",
        "        return (int(x[0])*30.48) + (int(x[4:-2])*2.54)\n",
        "    except:\n",
        "        return (int(x[0])*30.48)\n",
        "df_items.height = df_items.height.apply(get_cms)"
      ],
      "execution_count": 0,
      "outputs": []
    },
    {
      "cell_type": "code",
      "metadata": {
        "id": "jnLqyC13tqKb",
        "colab_type": "code",
        "colab": {}
      },
      "source": [
        "null_values = df_items.isnull().sum()"
      ],
      "execution_count": 0,
      "outputs": []
    },
    {
      "cell_type": "code",
      "metadata": {
        "id": "Z8Dq7xJgt-Yz",
        "colab_type": "code",
        "outputId": "ad2ce5dd-64c6-4077-9340-da81d7d4b30c",
        "colab": {
          "base_uri": "https://localhost:8080/",
          "height": 336
        }
      },
      "source": [
        "null_values/(len(df_items))    "
      ],
      "execution_count": 0,
      "outputs": [
        {
          "output_type": "execute_result",
          "data": {
            "text/plain": [
              "item_id           0.000000\n",
              "waist             0.965189\n",
              "size              0.000000\n",
              "quality           0.000821\n",
              "cup_size          0.075553\n",
              "hips              0.322817\n",
              "bra_size          0.072690\n",
              "category          0.000000\n",
              "bust              0.856818\n",
              "height            0.013371\n",
              "user_name         0.000000\n",
              "length            0.000423\n",
              "fit               0.000000\n",
              "user_id           0.000000\n",
              "shoe_size         0.662822\n",
              "shoe_width        0.775251\n",
              "review_summary    0.081230\n",
              "review_text       0.081230\n",
              "dtype: float64"
            ]
          },
          "metadata": {
            "tags": []
          },
          "execution_count": 12
        }
      ]
    },
    {
      "cell_type": "markdown",
      "metadata": {
        "id": "6AkZkm2trWXI",
        "colab_type": "text"
      },
      "source": [
        "Here we will drop waist and bust column because most of it value is NULL."
      ]
    },
    {
      "cell_type": "code",
      "metadata": {
        "id": "LT7PmGgGrVoM",
        "colab_type": "code",
        "colab": {}
      },
      "source": [
        "df_items.drop(columns=[\"waist\",\"bust\"],inplace = True)"
      ],
      "execution_count": 0,
      "outputs": []
    },
    {
      "cell_type": "code",
      "metadata": {
        "id": "S5UAi4vbrVtF",
        "colab_type": "code",
        "colab": {}
      },
      "source": [
        "num_col_convert = [\"height\", \"bra_size\",\"hips\"]               #Converting these value to numeric \n",
        "df_items[num_col_convert] = df_items[num_col_convert].apply(pd.to_numeric, errors=\"coerce\")"
      ],
      "execution_count": 0,
      "outputs": []
    },
    {
      "cell_type": "code",
      "metadata": {
        "id": "5viN8iQjtAIR",
        "colab_type": "code",
        "outputId": "78fe7473-d6e4-4f98-d030-cc0db0ffcfd0",
        "colab": {
          "base_uri": "https://localhost:8080/",
          "height": 299
        }
      },
      "source": [
        "df_items.head()"
      ],
      "execution_count": 0,
      "outputs": [
        {
          "output_type": "execute_result",
          "data": {
            "text/html": [
              "<div>\n",
              "<style scoped>\n",
              "    .dataframe tbody tr th:only-of-type {\n",
              "        vertical-align: middle;\n",
              "    }\n",
              "\n",
              "    .dataframe tbody tr th {\n",
              "        vertical-align: top;\n",
              "    }\n",
              "\n",
              "    .dataframe thead th {\n",
              "        text-align: right;\n",
              "    }\n",
              "</style>\n",
              "<table border=\"1\" class=\"dataframe\">\n",
              "  <thead>\n",
              "    <tr style=\"text-align: right;\">\n",
              "      <th></th>\n",
              "      <th>item_id</th>\n",
              "      <th>size</th>\n",
              "      <th>quality</th>\n",
              "      <th>cup_size</th>\n",
              "      <th>hips</th>\n",
              "      <th>bra_size</th>\n",
              "      <th>category</th>\n",
              "      <th>height</th>\n",
              "      <th>user_name</th>\n",
              "      <th>length</th>\n",
              "      <th>fit</th>\n",
              "      <th>user_id</th>\n",
              "      <th>shoe_size</th>\n",
              "      <th>shoe_width</th>\n",
              "      <th>review_summary</th>\n",
              "      <th>review_text</th>\n",
              "    </tr>\n",
              "  </thead>\n",
              "  <tbody>\n",
              "    <tr>\n",
              "      <th>0</th>\n",
              "      <td>123373</td>\n",
              "      <td>7</td>\n",
              "      <td>5.0</td>\n",
              "      <td>d</td>\n",
              "      <td>38.0</td>\n",
              "      <td>34.0</td>\n",
              "      <td>new</td>\n",
              "      <td>167.64</td>\n",
              "      <td>Emily</td>\n",
              "      <td>just right</td>\n",
              "      <td>small</td>\n",
              "      <td>991571</td>\n",
              "      <td>NaN</td>\n",
              "      <td>NaN</td>\n",
              "      <td>NaN</td>\n",
              "      <td>NaN</td>\n",
              "    </tr>\n",
              "    <tr>\n",
              "      <th>1</th>\n",
              "      <td>123373</td>\n",
              "      <td>13</td>\n",
              "      <td>3.0</td>\n",
              "      <td>b</td>\n",
              "      <td>30.0</td>\n",
              "      <td>36.0</td>\n",
              "      <td>new</td>\n",
              "      <td>157.48</td>\n",
              "      <td>sydneybraden2001</td>\n",
              "      <td>just right</td>\n",
              "      <td>small</td>\n",
              "      <td>587883</td>\n",
              "      <td>NaN</td>\n",
              "      <td>NaN</td>\n",
              "      <td>NaN</td>\n",
              "      <td>NaN</td>\n",
              "    </tr>\n",
              "    <tr>\n",
              "      <th>2</th>\n",
              "      <td>123373</td>\n",
              "      <td>7</td>\n",
              "      <td>2.0</td>\n",
              "      <td>b</td>\n",
              "      <td>NaN</td>\n",
              "      <td>32.0</td>\n",
              "      <td>new</td>\n",
              "      <td>170.18</td>\n",
              "      <td>Ugggh</td>\n",
              "      <td>slightly long</td>\n",
              "      <td>small</td>\n",
              "      <td>395665</td>\n",
              "      <td>9.00</td>\n",
              "      <td>NaN</td>\n",
              "      <td>NaN</td>\n",
              "      <td>NaN</td>\n",
              "    </tr>\n",
              "    <tr>\n",
              "      <th>3</th>\n",
              "      <td>123373</td>\n",
              "      <td>21</td>\n",
              "      <td>5.0</td>\n",
              "      <td>dd/e</td>\n",
              "      <td>NaN</td>\n",
              "      <td>NaN</td>\n",
              "      <td>new</td>\n",
              "      <td>NaN</td>\n",
              "      <td>alexmeyer626</td>\n",
              "      <td>just right</td>\n",
              "      <td>fit</td>\n",
              "      <td>875643</td>\n",
              "      <td>NaN</td>\n",
              "      <td>NaN</td>\n",
              "      <td>NaN</td>\n",
              "      <td>NaN</td>\n",
              "    </tr>\n",
              "    <tr>\n",
              "      <th>4</th>\n",
              "      <td>123373</td>\n",
              "      <td>18</td>\n",
              "      <td>5.0</td>\n",
              "      <td>b</td>\n",
              "      <td>NaN</td>\n",
              "      <td>36.0</td>\n",
              "      <td>new</td>\n",
              "      <td>157.48</td>\n",
              "      <td>dberrones1</td>\n",
              "      <td>slightly long</td>\n",
              "      <td>small</td>\n",
              "      <td>944840</td>\n",
              "      <td>NaN</td>\n",
              "      <td>NaN</td>\n",
              "      <td>NaN</td>\n",
              "      <td>NaN</td>\n",
              "    </tr>\n",
              "  </tbody>\n",
              "</table>\n",
              "</div>"
            ],
            "text/plain": [
              "  item_id  size  quality  ... shoe_width  review_summary  review_text\n",
              "0  123373     7      5.0  ...        NaN             NaN          NaN\n",
              "1  123373    13      3.0  ...        NaN             NaN          NaN\n",
              "2  123373     7      2.0  ...        NaN             NaN          NaN\n",
              "3  123373    21      5.0  ...        NaN             NaN          NaN\n",
              "4  123373    18      5.0  ...        NaN             NaN          NaN\n",
              "\n",
              "[5 rows x 16 columns]"
            ]
          },
          "metadata": {
            "tags": []
          },
          "execution_count": 15
        }
      ]
    },
    {
      "cell_type": "code",
      "metadata": {
        "id": "9G9S8aaurVq9",
        "colab_type": "code",
        "colab": {}
      },
      "source": [
        "# Handling hips column\n",
        "df_items.hips = df_items.hips.fillna(-1.0)\n",
        "bins = [-5,0,31,37,40,44,75]\n",
        "labels = ['Unknown','XS','S','M', 'L','XL']\n",
        "df_items.hips = pd.cut(df_items.hips, bins, labels=labels)\n",
        "\n",
        "# Handling length column\n",
        "missing_rows = df_items[df_items.length.isnull()].index\n",
        "df_items.drop(missing_rows, axis = 0, inplace=True)\n",
        "\n",
        "# Handling quality\n",
        "missing_rows = df_items[df_items.quality.isnull()].index\n",
        "df_items.drop(missing_rows, axis = 0, inplace=True)"
      ],
      "execution_count": 0,
      "outputs": []
    },
    {
      "cell_type": "code",
      "metadata": {
        "id": "adp9ipn-H6Qp",
        "colab_type": "code",
        "colab": {}
      },
      "source": [
        "df_items.review_summary = df_items[\"review_summary\"].fillna('Unknown')\n",
        "df_items.review_text = df_items[\"review_text\"].fillna('Unkown')\n",
        "df_items.drop(['user_name'], axis=1, inplace=True)"
      ],
      "execution_count": 0,
      "outputs": []
    },
    {
      "cell_type": "code",
      "metadata": {
        "id": "KQCPVM-f1sgb",
        "colab_type": "code",
        "colab": {}
      },
      "source": [
        "median_bra_size = df_items[\"bra_size\"].median()\n",
        "df_items[\"bra_size\"].fillna( value = median_bra_size,inplace=True )"
      ],
      "execution_count": 0,
      "outputs": []
    },
    {
      "cell_type": "code",
      "metadata": {
        "id": "voB40CfqzX9i",
        "colab_type": "code",
        "outputId": "46346902-1933-4d85-c7eb-41246f424fa5",
        "colab": {
          "base_uri": "https://localhost:8080/",
          "height": 284
        }
      },
      "source": [
        "df_items.describe()                                                     #Statistical analysis of numeric feature"
      ],
      "execution_count": 0,
      "outputs": [
        {
          "output_type": "execute_result",
          "data": {
            "text/html": [
              "<div>\n",
              "<style scoped>\n",
              "    .dataframe tbody tr th:only-of-type {\n",
              "        vertical-align: middle;\n",
              "    }\n",
              "\n",
              "    .dataframe tbody tr th {\n",
              "        vertical-align: top;\n",
              "    }\n",
              "\n",
              "    .dataframe thead th {\n",
              "        text-align: right;\n",
              "    }\n",
              "</style>\n",
              "<table border=\"1\" class=\"dataframe\">\n",
              "  <thead>\n",
              "    <tr style=\"text-align: right;\">\n",
              "      <th></th>\n",
              "      <th>size</th>\n",
              "      <th>quality</th>\n",
              "      <th>bra_size</th>\n",
              "      <th>height</th>\n",
              "    </tr>\n",
              "  </thead>\n",
              "  <tbody>\n",
              "    <tr>\n",
              "      <th>count</th>\n",
              "      <td>82697.000000</td>\n",
              "      <td>82697.000000</td>\n",
              "      <td>82697.000000</td>\n",
              "      <td>81594.000000</td>\n",
              "    </tr>\n",
              "    <tr>\n",
              "      <th>mean</th>\n",
              "      <td>12.660616</td>\n",
              "      <td>3.949128</td>\n",
              "      <td>35.974026</td>\n",
              "      <td>165.473059</td>\n",
              "    </tr>\n",
              "    <tr>\n",
              "      <th>std</th>\n",
              "      <td>8.271133</td>\n",
              "      <td>0.992736</td>\n",
              "      <td>3.105588</td>\n",
              "      <td>7.245555</td>\n",
              "    </tr>\n",
              "    <tr>\n",
              "      <th>min</th>\n",
              "      <td>0.000000</td>\n",
              "      <td>1.000000</td>\n",
              "      <td>28.000000</td>\n",
              "      <td>91.440000</td>\n",
              "    </tr>\n",
              "    <tr>\n",
              "      <th>25%</th>\n",
              "      <td>8.000000</td>\n",
              "      <td>3.000000</td>\n",
              "      <td>34.000000</td>\n",
              "      <td>160.020000</td>\n",
              "    </tr>\n",
              "    <tr>\n",
              "      <th>50%</th>\n",
              "      <td>12.000000</td>\n",
              "      <td>4.000000</td>\n",
              "      <td>36.000000</td>\n",
              "      <td>165.100000</td>\n",
              "    </tr>\n",
              "    <tr>\n",
              "      <th>75%</th>\n",
              "      <td>15.000000</td>\n",
              "      <td>5.000000</td>\n",
              "      <td>38.000000</td>\n",
              "      <td>170.180000</td>\n",
              "    </tr>\n",
              "    <tr>\n",
              "      <th>max</th>\n",
              "      <td>38.000000</td>\n",
              "      <td>5.000000</td>\n",
              "      <td>48.000000</td>\n",
              "      <td>241.300000</td>\n",
              "    </tr>\n",
              "  </tbody>\n",
              "</table>\n",
              "</div>"
            ],
            "text/plain": [
              "               size       quality      bra_size        height\n",
              "count  82697.000000  82697.000000  82697.000000  81594.000000\n",
              "mean      12.660616      3.949128     35.974026    165.473059\n",
              "std        8.271133      0.992736      3.105588      7.245555\n",
              "min        0.000000      1.000000     28.000000     91.440000\n",
              "25%        8.000000      3.000000     34.000000    160.020000\n",
              "50%       12.000000      4.000000     36.000000    165.100000\n",
              "75%       15.000000      5.000000     38.000000    170.180000\n",
              "max       38.000000      5.000000     48.000000    241.300000"
            ]
          },
          "metadata": {
            "tags": []
          },
          "execution_count": 19
        }
      ]
    },
    {
      "cell_type": "code",
      "metadata": {
        "id": "Zu2QA9Xi1qx8",
        "colab_type": "code",
        "outputId": "43ee01d6-3cba-4d89-bc54-34cad870cb94",
        "colab": {
          "base_uri": "https://localhost:8080/",
          "height": 521
        }
      },
      "source": [
        "pd.DataFrame(df_items.groupby(\"fit\")[\"quality\"].value_counts())"
      ],
      "execution_count": 0,
      "outputs": [
        {
          "output_type": "execute_result",
          "data": {
            "text/html": [
              "<div>\n",
              "<style scoped>\n",
              "    .dataframe tbody tr th:only-of-type {\n",
              "        vertical-align: middle;\n",
              "    }\n",
              "\n",
              "    .dataframe tbody tr th {\n",
              "        vertical-align: top;\n",
              "    }\n",
              "\n",
              "    .dataframe thead th {\n",
              "        text-align: right;\n",
              "    }\n",
              "</style>\n",
              "<table border=\"1\" class=\"dataframe\">\n",
              "  <thead>\n",
              "    <tr style=\"text-align: right;\">\n",
              "      <th></th>\n",
              "      <th></th>\n",
              "      <th>quality</th>\n",
              "    </tr>\n",
              "    <tr>\n",
              "      <th>fit</th>\n",
              "      <th>quality</th>\n",
              "      <th></th>\n",
              "    </tr>\n",
              "  </thead>\n",
              "  <tbody>\n",
              "    <tr>\n",
              "      <th rowspan=\"5\" valign=\"top\">fit</th>\n",
              "      <th>5.0</th>\n",
              "      <td>23097</td>\n",
              "    </tr>\n",
              "    <tr>\n",
              "      <th>4.0</th>\n",
              "      <td>18877</td>\n",
              "    </tr>\n",
              "    <tr>\n",
              "      <th>3.0</th>\n",
              "      <td>11739</td>\n",
              "    </tr>\n",
              "    <tr>\n",
              "      <th>2.0</th>\n",
              "      <td>2365</td>\n",
              "    </tr>\n",
              "    <tr>\n",
              "      <th>1.0</th>\n",
              "      <td>635</td>\n",
              "    </tr>\n",
              "    <tr>\n",
              "      <th rowspan=\"5\" valign=\"top\">large</th>\n",
              "      <th>4.0</th>\n",
              "      <td>4304</td>\n",
              "    </tr>\n",
              "    <tr>\n",
              "      <th>5.0</th>\n",
              "      <td>4027</td>\n",
              "    </tr>\n",
              "    <tr>\n",
              "      <th>3.0</th>\n",
              "      <td>3396</td>\n",
              "    </tr>\n",
              "    <tr>\n",
              "      <th>2.0</th>\n",
              "      <td>1063</td>\n",
              "    </tr>\n",
              "    <tr>\n",
              "      <th>1.0</th>\n",
              "      <td>246</td>\n",
              "    </tr>\n",
              "    <tr>\n",
              "      <th rowspan=\"5\" valign=\"top\">small</th>\n",
              "      <th>3.0</th>\n",
              "      <td>4386</td>\n",
              "    </tr>\n",
              "    <tr>\n",
              "      <th>4.0</th>\n",
              "      <td>3926</td>\n",
              "    </tr>\n",
              "    <tr>\n",
              "      <th>5.0</th>\n",
              "      <td>2474</td>\n",
              "    </tr>\n",
              "    <tr>\n",
              "      <th>2.0</th>\n",
              "      <td>1701</td>\n",
              "    </tr>\n",
              "    <tr>\n",
              "      <th>1.0</th>\n",
              "      <td>461</td>\n",
              "    </tr>\n",
              "  </tbody>\n",
              "</table>\n",
              "</div>"
            ],
            "text/plain": [
              "               quality\n",
              "fit   quality         \n",
              "fit   5.0        23097\n",
              "      4.0        18877\n",
              "      3.0        11739\n",
              "      2.0         2365\n",
              "      1.0          635\n",
              "large 4.0         4304\n",
              "      5.0         4027\n",
              "      3.0         3396\n",
              "      2.0         1063\n",
              "      1.0          246\n",
              "small 3.0         4386\n",
              "      4.0         3926\n",
              "      5.0         2474\n",
              "      2.0         1701\n",
              "      1.0          461"
            ]
          },
          "metadata": {
            "tags": []
          },
          "execution_count": 20
        }
      ]
    },
    {
      "cell_type": "markdown",
      "metadata": {
        "id": "IifNYnPTETcL",
        "colab_type": "text"
      },
      "source": [
        "To ensure the recommender system is exposed to items with enough rental sample, thereby reducing noise, I want to filter out low-rental and low quality items."
      ]
    },
    {
      "cell_type": "code",
      "metadata": {
        "id": "9yaOjMJ1D66j",
        "colab_type": "code",
        "colab": {}
      },
      "source": [
        "# including items with more than 2 ratings\n",
        "item_rating_count = pd.DataFrame(df_items.groupby(\"item_id\")[\"quality\"].count())\n",
        "item_rating_count = item_rating_count.loc[(item_rating_count[\"quality\"] >= 3)]\n",
        "item_rating_count.reset_index(inplace=True)\n",
        "df_items_reduced = df_items[df_items[\"item_id\"].isin(item_rating_count[\"item_id\"])]"
      ],
      "execution_count": 0,
      "outputs": []
    },
    {
      "cell_type": "markdown",
      "metadata": {
        "id": "4eQW7j3JBck_",
        "colab_type": "text"
      },
      "source": [
        "Here we will filter out the users who had done transaction only one time because for them we can use popularity recommendation beacuse we do not know about the customer so we can not extract latent features from them."
      ]
    },
    {
      "cell_type": "code",
      "metadata": {
        "id": "zxjID0djI6up",
        "colab_type": "code",
        "colab": {}
      },
      "source": [
        " a = pd.DataFrame(df_items_reduced.groupby(\"user_id\")[\"item_id\"].count())"
      ],
      "execution_count": 0,
      "outputs": []
    },
    {
      "cell_type": "code",
      "metadata": {
        "id": "17ZHa1QpI6xl",
        "colab_type": "code",
        "colab": {}
      },
      "source": [
        "user_names = a[a[\"item_id\"]>=2]"
      ],
      "execution_count": 0,
      "outputs": []
    },
    {
      "cell_type": "code",
      "metadata": {
        "id": "teNUZFGFU6EG",
        "colab_type": "code",
        "colab": {}
      },
      "source": [
        "s = set()"
      ],
      "execution_count": 0,
      "outputs": []
    },
    {
      "cell_type": "code",
      "metadata": {
        "id": "gEj9aZ3qQ90f",
        "colab_type": "code",
        "colab": {}
      },
      "source": [
        "for f in purchases_train:\n",
        "  for x in f:\n",
        "    s.add(x)\n"
      ],
      "execution_count": 0,
      "outputs": []
    },
    {
      "cell_type": "code",
      "metadata": {
        "id": "veikmyvOWn9Q",
        "colab_type": "code",
        "colab": {}
      },
      "source": [
        "item_name = list(s)               #list of unique items"
      ],
      "execution_count": 0,
      "outputs": []
    },
    {
      "cell_type": "code",
      "metadata": {
        "id": "FzcZqq7SKSC7",
        "colab_type": "code",
        "colab": {}
      },
      "source": [
        "user_name_list = list(user_names.index)"
      ],
      "execution_count": 0,
      "outputs": []
    },
    {
      "cell_type": "code",
      "metadata": {
        "id": "tjzfrnq1Mjxi",
        "colab_type": "code",
        "outputId": "99aab770-72ad-4c10-cd33-01ec927e8d4e",
        "colab": {
          "base_uri": "https://localhost:8080/",
          "height": 34
        }
      },
      "source": [
        "len(user_name_list)"
      ],
      "execution_count": 0,
      "outputs": [
        {
          "output_type": "execute_result",
          "data": {
            "text/plain": [
              "15948"
            ]
          },
          "metadata": {
            "tags": []
          },
          "execution_count": 28
        }
      ]
    },
    {
      "cell_type": "code",
      "metadata": {
        "id": "lsm5CAyrKSGH",
        "colab_type": "code",
        "colab": {}
      },
      "source": [
        "purchases_train = []                      #list of items purchased by particular user\n",
        "p=0\n",
        "# populate the list with the product codes\n",
        "for i in user_name_list:\n",
        "  temp = df_items_reduced[df_items_reduced[\"user_id\"] == i][\"item_id\"].tolist()\n",
        "  purchases_train.append(temp)\n",
        "  p = p+1\n",
        " # print(p)"
      ],
      "execution_count": 0,
      "outputs": []
    },
    {
      "cell_type": "markdown",
      "metadata": {
        "id": "S1zQQbvF-w64",
        "colab_type": "text"
      },
      "source": [
        "My approach of recommendation include extracting 4 different feature from given dataset and then applying classification model.\n",
        "\n",
        "Features:\n",
        "\n",
        "1) Observable item feature: category, length and quality\n",
        "\n",
        "2) Observable user feature: size, bra_size and height\n",
        "\n",
        "3) Latent item feature: These are generated using skip gram based word2vec model. I use user’s purchase data and product content data from a single category to train category specific model. The input and output for the\n",
        "word2vec are pairs of items purchased by the same user. After training the network, the activation of hidden layer for every item is the latent features vector.\n",
        "\n",
        "4) Latent user feature: It is obtained by taking mean of all latent feature of items purchased by user.\n",
        "\n",
        "\n",
        "\n",
        "![picture](https://drive.google.com/uc?export=view&id=1Otcid8r6WU8Vy4jwGcLwr7ihbZvVKYXJ)"
      ]
    },
    {
      "cell_type": "markdown",
      "metadata": {
        "id": "RFQF124qH_qM",
        "colab_type": "text"
      },
      "source": [
        "This model is my own implementation of this research paper: https://kddfashion2017.mybluemix.net/final_submissions/ML4Fashion_paper_8.pdf"
      ]
    },
    {
      "cell_type": "code",
      "metadata": {
        "id": "LHpdaIgJLLpo",
        "colab_type": "code",
        "colab": {}
      },
      "source": [
        "from gensim.models import Word2Vec"
      ],
      "execution_count": 0,
      "outputs": []
    },
    {
      "cell_type": "code",
      "metadata": {
        "id": "a2_3BEJjLL3g",
        "colab_type": "code",
        "colab": {}
      },
      "source": [
        "model = Word2Vec(size= 50, window = 5, sg = 1, hs = 0,min_count=1,\n",
        "                 negative = 2, # for negative sampling\n",
        "                 alpha=0.03, min_alpha=0.0007,\n",
        "                 seed = 14)"
      ],
      "execution_count": 0,
      "outputs": []
    },
    {
      "cell_type": "code",
      "metadata": {
        "id": "c5U1tCCeLLma",
        "colab_type": "code",
        "outputId": "bcc3ff3f-9f87-42b4-ad70-c75d5d146fb3",
        "colab": {
          "base_uri": "https://localhost:8080/",
          "height": 34
        }
      },
      "source": [
        "model.build_vocab(purchases_train)\n",
        "model.train(purchases_train, total_examples = model.corpus_count, \n",
        "            epochs=10, report_delay=1)"
      ],
      "execution_count": 0,
      "outputs": [
        {
          "output_type": "execute_result",
          "data": {
            "text/plain": [
              "(312692, 504240)"
            ]
          },
          "metadata": {
            "tags": []
          },
          "execution_count": 32
        }
      ]
    },
    {
      "cell_type": "code",
      "metadata": {
        "id": "LLVLavxWQLSe",
        "colab_type": "code",
        "colab": {}
      },
      "source": [
        "model.init_sims(replace=True)\n"
      ],
      "execution_count": 0,
      "outputs": []
    },
    {
      "cell_type": "code",
      "metadata": {
        "id": "xPpota1DVeKB",
        "colab_type": "code",
        "outputId": "fa9f117f-528c-4109-a6a3-829da7d492c6",
        "colab": {
          "base_uri": "https://localhost:8080/",
          "height": 34
        }
      },
      "source": [
        "print(model)\n"
      ],
      "execution_count": 0,
      "outputs": [
        {
          "output_type": "stream",
          "text": [
            "Word2Vec(vocab=736, size=50, alpha=0.03)\n"
          ],
          "name": "stdout"
        }
      ]
    },
    {
      "cell_type": "code",
      "metadata": {
        "id": "RMGwMwMMWGU3",
        "colab_type": "code",
        "outputId": "2fd23d93-9b37-4a7d-e4f8-e617462720f8",
        "colab": {
          "base_uri": "https://localhost:8080/",
          "height": 70
        }
      },
      "source": [
        "item_embedding = {}                          #embedding of all items\n",
        "for f in item_name:\n",
        "  item_embedding[f] = model[f]"
      ],
      "execution_count": 0,
      "outputs": [
        {
          "output_type": "stream",
          "text": [
            "/usr/local/lib/python3.6/dist-packages/ipykernel_launcher.py:3: DeprecationWarning: Call to deprecated `__getitem__` (Method will be removed in 4.0.0, use self.wv.__getitem__() instead).\n",
            "  This is separate from the ipykernel package so we can avoid doing imports until\n"
          ],
          "name": "stderr"
        }
      ]
    },
    {
      "cell_type": "code",
      "metadata": {
        "id": "bjl7simBv_QS",
        "colab_type": "code",
        "colab": {}
      },
      "source": [
        "purchases_train_1 = {}\n",
        "p=0\n",
        "# populate the list with the product codes\n",
        "for i in user_name_list:\n",
        "  temp = df_items_reduced[df_items_reduced[\"user_id\"] == i][\"item_id\"].tolist()\n",
        "  purchases_train_1[i] = temp\n",
        "  p = p+1\n",
        " # print(p)"
      ],
      "execution_count": 0,
      "outputs": []
    },
    {
      "cell_type": "code",
      "metadata": {
        "id": "3bfrMYKJW1WL",
        "colab_type": "code",
        "outputId": "26e13c61-8439-431e-d587-ccc3927b534e",
        "colab": {
          "base_uri": "https://localhost:8080/",
          "height": 70
        }
      },
      "source": [
        "user_embedding ={}\n",
        "for key,items in purchases_train_1.items():\n",
        "  a = np.zeros(50)\n",
        "  size_1 = len(items)\n",
        "  for x in items:\n",
        "    a1 = model[x]\n",
        "    a = a+a1\n",
        "  a = a/size_1\n",
        "  user_embedding[key] = a"
      ],
      "execution_count": 0,
      "outputs": [
        {
          "output_type": "stream",
          "text": [
            "/usr/local/lib/python3.6/dist-packages/ipykernel_launcher.py:6: DeprecationWarning: Call to deprecated `__getitem__` (Method will be removed in 4.0.0, use self.wv.__getitem__() instead).\n",
            "  \n"
          ],
          "name": "stderr"
        }
      ]
    },
    {
      "cell_type": "code",
      "metadata": {
        "id": "WeItH56QaunZ",
        "colab_type": "code",
        "colab": {}
      },
      "source": [
        "df_items_model = pd.DataFrame()"
      ],
      "execution_count": 0,
      "outputs": []
    },
    {
      "cell_type": "code",
      "metadata": {
        "id": "NJp1gwmwW0rI",
        "colab_type": "code",
        "colab": {}
      },
      "source": [
        "for f in item_name:\n",
        "  r = df_items_reduced[df_items_reduced[\"item_id\"]==f]\n",
        "  df_items_model = pd.concat([df_items_model,r])"
      ],
      "execution_count": 0,
      "outputs": []
    },
    {
      "cell_type": "code",
      "metadata": {
        "id": "c30eItV8Zr5K",
        "colab_type": "code",
        "colab": {}
      },
      "source": [
        "df_items_model.to_csv(\"df_items_model.csv\")"
      ],
      "execution_count": 0,
      "outputs": []
    },
    {
      "cell_type": "code",
      "metadata": {
        "colab_type": "code",
        "id": "sLHq9szVd9hi",
        "colab": {}
      },
      "source": [
        " a_1 = pd.DataFrame(df_items_model.groupby(\"user_id\")[\"item_id\"].count())"
      ],
      "execution_count": 0,
      "outputs": []
    },
    {
      "cell_type": "code",
      "metadata": {
        "colab_type": "code",
        "id": "8B2VkrOWd9hs",
        "colab": {}
      },
      "source": [
        "user_name_list_1 = list(a_1.index)"
      ],
      "execution_count": 0,
      "outputs": []
    },
    {
      "cell_type": "code",
      "metadata": {
        "id": "AmA80aNgfOUT",
        "colab_type": "code",
        "outputId": "bcaab0bc-addc-40bc-f01d-487fe8b3ed91",
        "colab": {
          "base_uri": "https://localhost:8080/",
          "height": 34
        }
      },
      "source": [
        "len(user_name_list_1)"
      ],
      "execution_count": 0,
      "outputs": [
        {
          "output_type": "execute_result",
          "data": {
            "text/plain": [
              "47133"
            ]
          },
          "metadata": {
            "tags": []
          },
          "execution_count": 368
        }
      ]
    },
    {
      "cell_type": "code",
      "metadata": {
        "colab_type": "code",
        "id": "STPT_tMWd9hz",
        "colab": {}
      },
      "source": [
        "user_info = []\n",
        "p=0\n",
        "# populate the list with the product codes\n",
        "for i in user_name_list_1:\n",
        "  temp = df_items_reduced[df_items_reduced[\"user_id\"] == i][\"item_id\"].tolist()\n",
        "  user_info.append(temp)\n",
        "  p = p+1\n",
        "  print(p)"
      ],
      "execution_count": 0,
      "outputs": []
    },
    {
      "cell_type": "code",
      "metadata": {
        "id": "LRi3jmBziIvd",
        "colab_type": "code",
        "colab": {}
      },
      "source": [
        "df_items_model.reset_index(drop = True,inplace=True)"
      ],
      "execution_count": 0,
      "outputs": []
    },
    {
      "cell_type": "code",
      "metadata": {
        "id": "KMtm6oR8iDUm",
        "colab_type": "code",
        "outputId": "5a9ddf63-1115-4107-bbc3-2a862dd8170c",
        "colab": {
          "base_uri": "https://localhost:8080/",
          "height": 262
        }
      },
      "source": [
        "df_items_model.head()"
      ],
      "execution_count": 0,
      "outputs": [
        {
          "output_type": "execute_result",
          "data": {
            "text/html": [
              "<div>\n",
              "<style scoped>\n",
              "    .dataframe tbody tr th:only-of-type {\n",
              "        vertical-align: middle;\n",
              "    }\n",
              "\n",
              "    .dataframe tbody tr th {\n",
              "        vertical-align: top;\n",
              "    }\n",
              "\n",
              "    .dataframe thead th {\n",
              "        text-align: right;\n",
              "    }\n",
              "</style>\n",
              "<table border=\"1\" class=\"dataframe\">\n",
              "  <thead>\n",
              "    <tr style=\"text-align: right;\">\n",
              "      <th></th>\n",
              "      <th>item_id</th>\n",
              "      <th>size</th>\n",
              "      <th>quality</th>\n",
              "      <th>cup_size</th>\n",
              "      <th>hips</th>\n",
              "      <th>bra_size</th>\n",
              "      <th>category</th>\n",
              "      <th>height</th>\n",
              "      <th>length</th>\n",
              "      <th>fit</th>\n",
              "      <th>user_id</th>\n",
              "      <th>shoe_size</th>\n",
              "      <th>shoe_width</th>\n",
              "      <th>review_summary</th>\n",
              "      <th>review_text</th>\n",
              "      <th>class_rating</th>\n",
              "    </tr>\n",
              "  </thead>\n",
              "  <tbody>\n",
              "    <tr>\n",
              "      <th>0</th>\n",
              "      <td>403296</td>\n",
              "      <td>38</td>\n",
              "      <td>5.0</td>\n",
              "      <td>c</td>\n",
              "      <td>Unknown</td>\n",
              "      <td>48.0</td>\n",
              "      <td>new</td>\n",
              "      <td>160.02</td>\n",
              "      <td>slightly long</td>\n",
              "      <td>fit</td>\n",
              "      <td>773924</td>\n",
              "      <td>NaN</td>\n",
              "      <td>NaN</td>\n",
              "      <td>Love this top</td>\n",
              "      <td>I bought two of this top, one in off white wit...</td>\n",
              "      <td>1</td>\n",
              "    </tr>\n",
              "    <tr>\n",
              "      <th>1</th>\n",
              "      <td>403296</td>\n",
              "      <td>8</td>\n",
              "      <td>5.0</td>\n",
              "      <td>d</td>\n",
              "      <td>Unknown</td>\n",
              "      <td>34.0</td>\n",
              "      <td>new</td>\n",
              "      <td>167.64</td>\n",
              "      <td>slightly long</td>\n",
              "      <td>large</td>\n",
              "      <td>716819</td>\n",
              "      <td>NaN</td>\n",
              "      <td>NaN</td>\n",
              "      <td>Love this shirt! So comfo</td>\n",
              "      <td>Love this shirt! So comfortable! It is very lo...</td>\n",
              "      <td>1</td>\n",
              "    </tr>\n",
              "    <tr>\n",
              "      <th>2</th>\n",
              "      <td>403296</td>\n",
              "      <td>20</td>\n",
              "      <td>4.0</td>\n",
              "      <td>d</td>\n",
              "      <td>Unknown</td>\n",
              "      <td>38.0</td>\n",
              "      <td>new</td>\n",
              "      <td>165.10</td>\n",
              "      <td>just right</td>\n",
              "      <td>fit</td>\n",
              "      <td>62253</td>\n",
              "      <td>NaN</td>\n",
              "      <td>NaN</td>\n",
              "      <td>Pretty colors and fit, bu</td>\n",
              "      <td>Pretty colors and fit, but the material is a l...</td>\n",
              "      <td>1</td>\n",
              "    </tr>\n",
              "    <tr>\n",
              "      <th>3</th>\n",
              "      <td>403296</td>\n",
              "      <td>4</td>\n",
              "      <td>4.0</td>\n",
              "      <td>d</td>\n",
              "      <td>Unknown</td>\n",
              "      <td>34.0</td>\n",
              "      <td>new</td>\n",
              "      <td>162.56</td>\n",
              "      <td>slightly long</td>\n",
              "      <td>fit</td>\n",
              "      <td>175259</td>\n",
              "      <td>NaN</td>\n",
              "      <td>NaN</td>\n",
              "      <td>Love these! True to size</td>\n",
              "      <td>Love these! True to size fit.</td>\n",
              "      <td>1</td>\n",
              "    </tr>\n",
              "    <tr>\n",
              "      <th>4</th>\n",
              "      <td>403296</td>\n",
              "      <td>26</td>\n",
              "      <td>4.0</td>\n",
              "      <td>ddd/f</td>\n",
              "      <td>Unknown</td>\n",
              "      <td>40.0</td>\n",
              "      <td>new</td>\n",
              "      <td>177.80</td>\n",
              "      <td>just right</td>\n",
              "      <td>fit</td>\n",
              "      <td>739263</td>\n",
              "      <td>NaN</td>\n",
              "      <td>NaN</td>\n",
              "      <td>Nice long sleeves!</td>\n",
              "      <td>Nice long sleeves!</td>\n",
              "      <td>1</td>\n",
              "    </tr>\n",
              "  </tbody>\n",
              "</table>\n",
              "</div>"
            ],
            "text/plain": [
              "  item_id  ...  class_rating\n",
              "0  403296  ...             1\n",
              "1  403296  ...             1\n",
              "2  403296  ...             1\n",
              "3  403296  ...             1\n",
              "4  403296  ...             1\n",
              "\n",
              "[5 rows x 16 columns]"
            ]
          },
          "metadata": {
            "tags": []
          },
          "execution_count": 42
        }
      ]
    },
    {
      "cell_type": "code",
      "metadata": {
        "id": "rpbsai0kpdKR",
        "colab_type": "code",
        "colab": {}
      },
      "source": [
        "df_items_model_copy = df_items_model.copy()"
      ],
      "execution_count": 0,
      "outputs": []
    },
    {
      "cell_type": "code",
      "metadata": {
        "id": "mivPmIcYGqCS",
        "colab_type": "code",
        "colab": {}
      },
      "source": [
        ""
      ],
      "execution_count": 0,
      "outputs": []
    },
    {
      "cell_type": "code",
      "metadata": {
        "id": "YQoX9NZIpzK2",
        "colab_type": "code",
        "outputId": "22c7f256-6e21-4294-a74e-5937e5fe1535",
        "colab": {
          "base_uri": "https://localhost:8080/",
          "height": 50
        }
      },
      "source": [
        "df_items_model_copy[\"length\"].unique()"
      ],
      "execution_count": 0,
      "outputs": [
        {
          "output_type": "execute_result",
          "data": {
            "text/plain": [
              "array(['slightly long', 'just right', 'very long', 'slightly short',\n",
              "       'very short'], dtype=object)"
            ]
          },
          "metadata": {
            "tags": []
          },
          "execution_count": 44
        }
      ]
    },
    {
      "cell_type": "code",
      "metadata": {
        "id": "o_TJj-tdo1yf",
        "colab_type": "code",
        "colab": {}
      },
      "source": [
        "df_items_model_copy = pd.get_dummies(df_items_model_copy, columns=['category',\"length\"],drop_first=True)\n"
      ],
      "execution_count": 0,
      "outputs": []
    },
    {
      "cell_type": "code",
      "metadata": {
        "id": "9Q_bA26msSwX",
        "colab_type": "code",
        "outputId": "4dc14c0f-8225-41d2-cd8f-47e8341c6ae2",
        "colab": {
          "base_uri": "https://localhost:8080/",
          "height": 34
        }
      },
      "source": [
        " df_items_model.shape"
      ],
      "execution_count": 0,
      "outputs": [
        {
          "output_type": "execute_result",
          "data": {
            "text/plain": [
              "(81609, 16)"
            ]
          },
          "metadata": {
            "tags": []
          },
          "execution_count": 46
        }
      ]
    },
    {
      "cell_type": "code",
      "metadata": {
        "id": "x8THmWyepxTz",
        "colab_type": "code",
        "outputId": "9bb8322f-8dae-4c9a-a9b3-e191c1da3965",
        "colab": {
          "base_uri": "https://localhost:8080/",
          "height": 34
        }
      },
      "source": [
        "df_items_model_copy.shape"
      ],
      "execution_count": 0,
      "outputs": [
        {
          "output_type": "execute_result",
          "data": {
            "text/plain": [
              "(81609, 18)"
            ]
          },
          "metadata": {
            "tags": []
          },
          "execution_count": 406
        }
      ]
    },
    {
      "cell_type": "code",
      "metadata": {
        "id": "tQysYahXsnNN",
        "colab_type": "code",
        "colab": {}
      },
      "source": [
        "df_item_latent  = pd.DataFrame()"
      ],
      "execution_count": 0,
      "outputs": []
    },
    {
      "cell_type": "code",
      "metadata": {
        "id": "a99do3ozqSo9",
        "colab_type": "code",
        "outputId": "39508621-0e55-4f65-db12-383b3db6c808",
        "colab": {
          "base_uri": "https://localhost:8080/",
          "height": 70
        }
      },
      "source": [
        "missing=[0]*50\n",
        "def fun(key):\n",
        "    try:\n",
        "        return(model[key])\n",
        "    except:\n",
        "        return(missing)\n",
        "\n",
        "df_item_latent['vector'] = df_items_model_copy['item_id'].apply(fun)\n",
        "df_item_latent = pd.DataFrame(df_item_latent['vector'].values.tolist())"
      ],
      "execution_count": 0,
      "outputs": [
        {
          "output_type": "stream",
          "text": [
            "/usr/local/lib/python3.6/dist-packages/ipykernel_launcher.py:4: DeprecationWarning: Call to deprecated `__getitem__` (Method will be removed in 4.0.0, use self.wv.__getitem__() instead).\n",
            "  after removing the cwd from sys.path.\n"
          ],
          "name": "stderr"
        }
      ]
    },
    {
      "cell_type": "code",
      "metadata": {
        "id": "5qOhSpFyla4J",
        "colab_type": "code",
        "colab": {}
      },
      "source": [
        "df_item_latent[\"item_id\"] = df_items_model_copy[\"item_id\"]"
      ],
      "execution_count": 0,
      "outputs": []
    },
    {
      "cell_type": "code",
      "metadata": {
        "id": "K3n9B08l5G93",
        "colab_type": "code",
        "colab": {}
      },
      "source": [
        "df_items_model_copy1 = df_items_model_copy[:10]"
      ],
      "execution_count": 0,
      "outputs": []
    },
    {
      "cell_type": "code",
      "metadata": {
        "id": "jMgjir_K6Y5X",
        "colab_type": "code",
        "outputId": "36ec4b37-1040-413f-8366-5d826c03e832",
        "colab": {
          "base_uri": "https://localhost:8080/",
          "height": 34
        }
      },
      "source": [
        "p= df_items_model_copy[df_items_model_copy[\"user_id\"]==\"978352\"]\n",
        "p.shape[0]"
      ],
      "execution_count": 0,
      "outputs": [
        {
          "output_type": "execute_result",
          "data": {
            "text/plain": [
              "1"
            ]
          },
          "metadata": {
            "tags": []
          },
          "execution_count": 68
        }
      ]
    },
    {
      "cell_type": "code",
      "metadata": {
        "id": "EcdhPVXT4h0d",
        "colab_type": "code",
        "colab": {}
      },
      "source": [
        "column_name = list(df_item_latent.columns)\n",
        "column_name_new = []\n",
        "for f in column_name:\n",
        "  column_name_new.append(str(f)+\"_\")\n",
        "\n",
        "df_item_latent.columns = column_name_new"
      ],
      "execution_count": 0,
      "outputs": []
    },
    {
      "cell_type": "code",
      "metadata": {
        "id": "XKFz_WxZ6szc",
        "colab_type": "code",
        "colab": {}
      },
      "source": [
        " df_1 = pd.concat([df_items_model_copy,df_item_latent],axis =1)"
      ],
      "execution_count": 0,
      "outputs": []
    },
    {
      "cell_type": "code",
      "metadata": {
        "id": "qe7iKrm_0W9u",
        "colab_type": "code",
        "outputId": "b1ceadb0-dfef-4ab4-fb0b-f6380f54abc1",
        "colab": {
          "base_uri": "https://localhost:8080/",
          "height": 70
        }
      },
      "source": [
        "df_user_latent = pd.DataFrame()\n",
        "def fun1(key):\n",
        "    p= df_items_model_copy[df_items_model_copy[\"user_id\"]==key]\n",
        "    if(p.shape[0]>1):\n",
        "      return(user_embedding[key])\n",
        "\n",
        "    else:\n",
        "      key1 = list(p[\"item_id\"])[0]\n",
        "      return(model[key1])\n",
        "\n",
        "df_user_latent['vector'] = df_items_model_copy['user_id'].apply(fun1)\n",
        "df_user_latent = pd.DataFrame(df_user_latent['vector'].values.tolist())"
      ],
      "execution_count": 0,
      "outputs": [
        {
          "output_type": "stream",
          "text": [
            "/usr/local/lib/python3.6/dist-packages/ipykernel_launcher.py:9: DeprecationWarning: Call to deprecated `__getitem__` (Method will be removed in 4.0.0, use self.wv.__getitem__() instead).\n",
            "  if __name__ == '__main__':\n"
          ],
          "name": "stderr"
        }
      ]
    },
    {
      "cell_type": "code",
      "metadata": {
        "id": "jKY0m76g-auf",
        "colab_type": "code",
        "colab": {}
      },
      "source": [
        "df_user_latent1 = df_user_latent.copy()"
      ],
      "execution_count": 0,
      "outputs": []
    },
    {
      "cell_type": "code",
      "metadata": {
        "id": "uYDGikYI-arF",
        "colab_type": "code",
        "colab": {}
      },
      "source": [
        "df_2 = pd.concat([df_1,df_user_latent1],axis =1)"
      ],
      "execution_count": 0,
      "outputs": []
    },
    {
      "cell_type": "code",
      "metadata": {
        "id": "IoxsfOuuAm8y",
        "colab_type": "code",
        "colab": {}
      },
      "source": [
        "df_2[\"height\"].fillna(value = np.mean(df_2[\"height\"]),inplace = True)"
      ],
      "execution_count": 0,
      "outputs": []
    },
    {
      "cell_type": "code",
      "metadata": {
        "id": "g7h4Gusv_Uk2",
        "colab_type": "code",
        "colab": {}
      },
      "source": [
        "df_2.to_csv(\"item_product_final.csv\")"
      ],
      "execution_count": 0,
      "outputs": []
    },
    {
      "cell_type": "code",
      "metadata": {
        "id": "rl5C6aXsojXX",
        "colab_type": "code",
        "colab": {}
      },
      "source": [
        "\n",
        "df_2.drop(columns=[\"shoe_size\",\"shoe_width\",\"review_summary\",\"review_text\",\"class_rating\",\"hips\"],inplace = True)"
      ],
      "execution_count": 0,
      "outputs": []
    },
    {
      "cell_type": "code",
      "metadata": {
        "id": "htk-Qh6Y-okK",
        "colab_type": "code",
        "outputId": "b28b3c10-3648-43d7-c124-8847551bcc9d",
        "colab": {
          "base_uri": "https://localhost:8080/",
          "height": 218
        }
      },
      "source": [
        "df_2.isnull().sum()"
      ],
      "execution_count": 0,
      "outputs": [
        {
          "output_type": "execute_result",
          "data": {
            "text/plain": [
              "item_id        0\n",
              "size           0\n",
              "quality        0\n",
              "cup_size    6042\n",
              "bra_size       0\n",
              "            ... \n",
              "45             0\n",
              "46             0\n",
              "47             0\n",
              "48             0\n",
              "49             0\n",
              "Length: 118, dtype: int64"
            ]
          },
          "metadata": {
            "tags": []
          },
          "execution_count": 73
        }
      ]
    },
    {
      "cell_type": "code",
      "metadata": {
        "id": "46Zz9N3mH_BV",
        "colab_type": "code",
        "colab": {}
      },
      "source": [
        "from sklearn.model_selection import train_test_split\n",
        "from sklearn.ensemble import GradientBoostingClassifier\n",
        "from sklearn.metrics import roc_curve, roc_auc_score\n"
      ],
      "execution_count": 0,
      "outputs": []
    },
    {
      "cell_type": "code",
      "metadata": {
        "id": "Gwc_K_ifAybN",
        "colab_type": "code",
        "colab": {}
      },
      "source": [
        "# including users who had purchased more than 2 items.\n",
        "item_rating_count = pd.DataFrame(df_2.groupby(\"user_id\")[\"item_id\"].count())\n",
        "item_rating_count = item_rating_count.loc[(item_rating_count[\"item_id\"] >= 3)]\n",
        "item_rating_count.reset_index(inplace=True)\n",
        "df_2_reduced = df_2[df_2[\"user_id\"].isin(item_rating_count[\"user_id\"])]"
      ],
      "execution_count": 0,
      "outputs": []
    },
    {
      "cell_type": "code",
      "metadata": {
        "colab_type": "code",
        "id": "aIPSktW0D3HN",
        "outputId": "90bbacd5-b736-4ff8-c13f-5e2a030a96ca",
        "colab": {
          "base_uri": "https://localhost:8080/",
          "height": 101
        }
      },
      "source": [
        "df_2_reduced.drop(columns=[\"item_id\",\"user_id\",\"cup_size\"],inplace = True)"
      ],
      "execution_count": 0,
      "outputs": [
        {
          "output_type": "stream",
          "text": [
            "/usr/local/lib/python3.6/dist-packages/pandas/core/frame.py:3997: SettingWithCopyWarning: \n",
            "A value is trying to be set on a copy of a slice from a DataFrame\n",
            "\n",
            "See the caveats in the documentation: https://pandas.pydata.org/pandas-docs/stable/user_guide/indexing.html#returning-a-view-versus-a-copy\n",
            "  errors=errors,\n"
          ],
          "name": "stderr"
        }
      ]
    },
    {
      "cell_type": "code",
      "metadata": {
        "colab_type": "code",
        "id": "47FTNlwwD3HS",
        "outputId": "9c1c5c6f-567c-4c8d-c480-41a6c5d56bef",
        "colab": {
          "base_uri": "https://localhost:8080/",
          "height": 118
        }
      },
      "source": [
        "a = {\"fit\":1, \"small\":0 , \"large\":0}\n",
        "df_2_reduced[\"fit\"] = df_2_reduced[\"fit\"].apply(lambda x : a[x])"
      ],
      "execution_count": 0,
      "outputs": [
        {
          "output_type": "stream",
          "text": [
            "/usr/local/lib/python3.6/dist-packages/ipykernel_launcher.py:2: SettingWithCopyWarning: \n",
            "A value is trying to be set on a copy of a slice from a DataFrame.\n",
            "Try using .loc[row_indexer,col_indexer] = value instead\n",
            "\n",
            "See the caveats in the documentation: https://pandas.pydata.org/pandas-docs/stable/user_guide/indexing.html#returning-a-view-versus-a-copy\n",
            "  \n"
          ],
          "name": "stderr"
        }
      ]
    },
    {
      "cell_type": "code",
      "metadata": {
        "colab_type": "code",
        "id": "KzjlJYz9EA3i",
        "colab": {}
      },
      "source": [
        "df_item_train1,df_item_tes1t = train_test_split(df_2_reduced,\n",
        "                                               test_size=.2, \n",
        "                                               random_state=1001)"
      ],
      "execution_count": 0,
      "outputs": []
    },
    {
      "cell_type": "code",
      "metadata": {
        "colab_type": "code",
        "id": "5vKQ1S5XEA3k",
        "colab": {}
      },
      "source": [
        "x_train1 = df_item_train1.drop(columns=[\"fit\"])\n",
        "y_train1 = df_item_train1[\"fit\"]"
      ],
      "execution_count": 0,
      "outputs": []
    },
    {
      "cell_type": "code",
      "metadata": {
        "id": "kOr_qowBVuQu",
        "colab_type": "code",
        "outputId": "4d97badc-05cc-43fb-c5c7-637bd5d0d50d",
        "colab": {
          "base_uri": "https://localhost:8080/",
          "height": 261
        }
      },
      "source": [
        "x_train1.head()"
      ],
      "execution_count": 0,
      "outputs": [
        {
          "output_type": "execute_result",
          "data": {
            "text/html": [
              "<div>\n",
              "<style scoped>\n",
              "    .dataframe tbody tr th:only-of-type {\n",
              "        vertical-align: middle;\n",
              "    }\n",
              "\n",
              "    .dataframe tbody tr th {\n",
              "        vertical-align: top;\n",
              "    }\n",
              "\n",
              "    .dataframe thead th {\n",
              "        text-align: right;\n",
              "    }\n",
              "</style>\n",
              "<table border=\"1\" class=\"dataframe\">\n",
              "  <thead>\n",
              "    <tr style=\"text-align: right;\">\n",
              "      <th></th>\n",
              "      <th>size</th>\n",
              "      <th>quality</th>\n",
              "      <th>bra_size</th>\n",
              "      <th>height</th>\n",
              "      <th>category_dresses</th>\n",
              "      <th>category_new</th>\n",
              "      <th>category_outerwear</th>\n",
              "      <th>category_sale</th>\n",
              "      <th>category_tops</th>\n",
              "      <th>category_wedding</th>\n",
              "      <th>length_slightly long</th>\n",
              "      <th>length_slightly short</th>\n",
              "      <th>length_very long</th>\n",
              "      <th>length_very short</th>\n",
              "      <th>0_</th>\n",
              "      <th>1_</th>\n",
              "      <th>2_</th>\n",
              "      <th>3_</th>\n",
              "      <th>4_</th>\n",
              "      <th>5_</th>\n",
              "      <th>6_</th>\n",
              "      <th>7_</th>\n",
              "      <th>8_</th>\n",
              "      <th>9_</th>\n",
              "      <th>10_</th>\n",
              "      <th>11_</th>\n",
              "      <th>12_</th>\n",
              "      <th>13_</th>\n",
              "      <th>14_</th>\n",
              "      <th>15_</th>\n",
              "      <th>16_</th>\n",
              "      <th>17_</th>\n",
              "      <th>18_</th>\n",
              "      <th>19_</th>\n",
              "      <th>20_</th>\n",
              "      <th>21_</th>\n",
              "      <th>22_</th>\n",
              "      <th>23_</th>\n",
              "      <th>24_</th>\n",
              "      <th>25_</th>\n",
              "      <th>...</th>\n",
              "      <th>10</th>\n",
              "      <th>11</th>\n",
              "      <th>12</th>\n",
              "      <th>13</th>\n",
              "      <th>14</th>\n",
              "      <th>15</th>\n",
              "      <th>16</th>\n",
              "      <th>17</th>\n",
              "      <th>18</th>\n",
              "      <th>19</th>\n",
              "      <th>20</th>\n",
              "      <th>21</th>\n",
              "      <th>22</th>\n",
              "      <th>23</th>\n",
              "      <th>24</th>\n",
              "      <th>25</th>\n",
              "      <th>26</th>\n",
              "      <th>27</th>\n",
              "      <th>28</th>\n",
              "      <th>29</th>\n",
              "      <th>30</th>\n",
              "      <th>31</th>\n",
              "      <th>32</th>\n",
              "      <th>33</th>\n",
              "      <th>34</th>\n",
              "      <th>35</th>\n",
              "      <th>36</th>\n",
              "      <th>37</th>\n",
              "      <th>38</th>\n",
              "      <th>39</th>\n",
              "      <th>40</th>\n",
              "      <th>41</th>\n",
              "      <th>42</th>\n",
              "      <th>43</th>\n",
              "      <th>44</th>\n",
              "      <th>45</th>\n",
              "      <th>46</th>\n",
              "      <th>47</th>\n",
              "      <th>48</th>\n",
              "      <th>49</th>\n",
              "    </tr>\n",
              "  </thead>\n",
              "  <tbody>\n",
              "    <tr>\n",
              "      <th>25911</th>\n",
              "      <td>15</td>\n",
              "      <td>5.0</td>\n",
              "      <td>38.0</td>\n",
              "      <td>162.56</td>\n",
              "      <td>1</td>\n",
              "      <td>0</td>\n",
              "      <td>0</td>\n",
              "      <td>0</td>\n",
              "      <td>0</td>\n",
              "      <td>0</td>\n",
              "      <td>0</td>\n",
              "      <td>0</td>\n",
              "      <td>0</td>\n",
              "      <td>0</td>\n",
              "      <td>-0.167803</td>\n",
              "      <td>0.079699</td>\n",
              "      <td>-0.093034</td>\n",
              "      <td>-0.188183</td>\n",
              "      <td>0.037256</td>\n",
              "      <td>0.217453</td>\n",
              "      <td>-0.047011</td>\n",
              "      <td>-0.112520</td>\n",
              "      <td>-0.029114</td>\n",
              "      <td>0.042007</td>\n",
              "      <td>-0.049808</td>\n",
              "      <td>-0.116706</td>\n",
              "      <td>-0.134812</td>\n",
              "      <td>-0.085428</td>\n",
              "      <td>-0.017332</td>\n",
              "      <td>0.243662</td>\n",
              "      <td>0.219856</td>\n",
              "      <td>0.225888</td>\n",
              "      <td>0.186828</td>\n",
              "      <td>0.140356</td>\n",
              "      <td>-0.305030</td>\n",
              "      <td>0.169203</td>\n",
              "      <td>-0.156165</td>\n",
              "      <td>0.034750</td>\n",
              "      <td>-0.048768</td>\n",
              "      <td>0.150330</td>\n",
              "      <td>...</td>\n",
              "      <td>-0.007766</td>\n",
              "      <td>-0.166257</td>\n",
              "      <td>-0.059652</td>\n",
              "      <td>-0.099416</td>\n",
              "      <td>0.032163</td>\n",
              "      <td>0.205713</td>\n",
              "      <td>0.167429</td>\n",
              "      <td>0.277881</td>\n",
              "      <td>0.257623</td>\n",
              "      <td>0.159531</td>\n",
              "      <td>-0.140330</td>\n",
              "      <td>0.151997</td>\n",
              "      <td>-0.155031</td>\n",
              "      <td>0.085829</td>\n",
              "      <td>0.031936</td>\n",
              "      <td>0.109650</td>\n",
              "      <td>-0.323028</td>\n",
              "      <td>0.057378</td>\n",
              "      <td>-0.001172</td>\n",
              "      <td>0.025153</td>\n",
              "      <td>-0.012146</td>\n",
              "      <td>-0.120919</td>\n",
              "      <td>0.008185</td>\n",
              "      <td>0.085048</td>\n",
              "      <td>-0.115049</td>\n",
              "      <td>-0.003803</td>\n",
              "      <td>0.113329</td>\n",
              "      <td>0.002525</td>\n",
              "      <td>0.042880</td>\n",
              "      <td>0.080031</td>\n",
              "      <td>0.259889</td>\n",
              "      <td>0.021807</td>\n",
              "      <td>-0.015453</td>\n",
              "      <td>0.087447</td>\n",
              "      <td>-0.069302</td>\n",
              "      <td>0.006464</td>\n",
              "      <td>0.191078</td>\n",
              "      <td>-0.064777</td>\n",
              "      <td>0.034369</td>\n",
              "      <td>-0.078304</td>\n",
              "    </tr>\n",
              "    <tr>\n",
              "      <th>29080</th>\n",
              "      <td>26</td>\n",
              "      <td>5.0</td>\n",
              "      <td>42.0</td>\n",
              "      <td>167.64</td>\n",
              "      <td>0</td>\n",
              "      <td>1</td>\n",
              "      <td>0</td>\n",
              "      <td>0</td>\n",
              "      <td>0</td>\n",
              "      <td>0</td>\n",
              "      <td>0</td>\n",
              "      <td>0</td>\n",
              "      <td>0</td>\n",
              "      <td>0</td>\n",
              "      <td>-0.141209</td>\n",
              "      <td>0.058614</td>\n",
              "      <td>-0.015353</td>\n",
              "      <td>-0.201490</td>\n",
              "      <td>-0.041249</td>\n",
              "      <td>0.247691</td>\n",
              "      <td>0.116398</td>\n",
              "      <td>-0.045342</td>\n",
              "      <td>0.033822</td>\n",
              "      <td>0.227530</td>\n",
              "      <td>0.026835</td>\n",
              "      <td>-0.133332</td>\n",
              "      <td>-0.078358</td>\n",
              "      <td>-0.031006</td>\n",
              "      <td>0.096696</td>\n",
              "      <td>0.147423</td>\n",
              "      <td>0.190309</td>\n",
              "      <td>0.252531</td>\n",
              "      <td>0.277299</td>\n",
              "      <td>0.146334</td>\n",
              "      <td>-0.152535</td>\n",
              "      <td>0.163348</td>\n",
              "      <td>-0.232811</td>\n",
              "      <td>0.055483</td>\n",
              "      <td>-0.151604</td>\n",
              "      <td>0.173920</td>\n",
              "      <td>...</td>\n",
              "      <td>-0.009104</td>\n",
              "      <td>-0.117102</td>\n",
              "      <td>-0.073371</td>\n",
              "      <td>-0.086831</td>\n",
              "      <td>0.024367</td>\n",
              "      <td>0.216775</td>\n",
              "      <td>0.161616</td>\n",
              "      <td>0.245360</td>\n",
              "      <td>0.202098</td>\n",
              "      <td>0.117261</td>\n",
              "      <td>-0.207073</td>\n",
              "      <td>0.127708</td>\n",
              "      <td>-0.155589</td>\n",
              "      <td>0.046395</td>\n",
              "      <td>-0.018561</td>\n",
              "      <td>0.145964</td>\n",
              "      <td>-0.275526</td>\n",
              "      <td>-0.057228</td>\n",
              "      <td>0.035899</td>\n",
              "      <td>0.044134</td>\n",
              "      <td>0.005724</td>\n",
              "      <td>-0.139528</td>\n",
              "      <td>0.019242</td>\n",
              "      <td>0.037181</td>\n",
              "      <td>-0.068478</td>\n",
              "      <td>-0.017774</td>\n",
              "      <td>0.122948</td>\n",
              "      <td>-0.040495</td>\n",
              "      <td>0.012081</td>\n",
              "      <td>0.089717</td>\n",
              "      <td>0.295565</td>\n",
              "      <td>0.033051</td>\n",
              "      <td>0.026456</td>\n",
              "      <td>0.100481</td>\n",
              "      <td>-0.045634</td>\n",
              "      <td>0.008371</td>\n",
              "      <td>0.167714</td>\n",
              "      <td>-0.081990</td>\n",
              "      <td>0.064875</td>\n",
              "      <td>-0.132621</td>\n",
              "    </tr>\n",
              "    <tr>\n",
              "      <th>40990</th>\n",
              "      <td>4</td>\n",
              "      <td>3.0</td>\n",
              "      <td>30.0</td>\n",
              "      <td>167.64</td>\n",
              "      <td>0</td>\n",
              "      <td>0</td>\n",
              "      <td>0</td>\n",
              "      <td>0</td>\n",
              "      <td>1</td>\n",
              "      <td>0</td>\n",
              "      <td>0</td>\n",
              "      <td>0</td>\n",
              "      <td>0</td>\n",
              "      <td>0</td>\n",
              "      <td>-0.066442</td>\n",
              "      <td>0.224263</td>\n",
              "      <td>0.037179</td>\n",
              "      <td>0.009829</td>\n",
              "      <td>-0.112730</td>\n",
              "      <td>-0.115270</td>\n",
              "      <td>-0.122052</td>\n",
              "      <td>0.122730</td>\n",
              "      <td>-0.088052</td>\n",
              "      <td>-0.284073</td>\n",
              "      <td>-0.054355</td>\n",
              "      <td>-0.126457</td>\n",
              "      <td>-0.027921</td>\n",
              "      <td>-0.219331</td>\n",
              "      <td>-0.115396</td>\n",
              "      <td>0.392813</td>\n",
              "      <td>0.153751</td>\n",
              "      <td>0.326180</td>\n",
              "      <td>0.083438</td>\n",
              "      <td>0.132755</td>\n",
              "      <td>-0.210482</td>\n",
              "      <td>0.021139</td>\n",
              "      <td>0.021604</td>\n",
              "      <td>0.007161</td>\n",
              "      <td>0.232730</td>\n",
              "      <td>0.022453</td>\n",
              "      <td>...</td>\n",
              "      <td>-0.078667</td>\n",
              "      <td>-0.120730</td>\n",
              "      <td>0.026946</td>\n",
              "      <td>-0.166046</td>\n",
              "      <td>-0.097800</td>\n",
              "      <td>0.347884</td>\n",
              "      <td>0.080555</td>\n",
              "      <td>0.301379</td>\n",
              "      <td>0.083685</td>\n",
              "      <td>0.105451</td>\n",
              "      <td>-0.189491</td>\n",
              "      <td>0.022466</td>\n",
              "      <td>-0.026264</td>\n",
              "      <td>0.040773</td>\n",
              "      <td>0.252484</td>\n",
              "      <td>0.048962</td>\n",
              "      <td>-0.145519</td>\n",
              "      <td>-0.029294</td>\n",
              "      <td>0.083000</td>\n",
              "      <td>-0.005867</td>\n",
              "      <td>0.103882</td>\n",
              "      <td>0.052811</td>\n",
              "      <td>0.020544</td>\n",
              "      <td>0.157441</td>\n",
              "      <td>-0.160118</td>\n",
              "      <td>0.000201</td>\n",
              "      <td>0.191249</td>\n",
              "      <td>-0.137758</td>\n",
              "      <td>0.062912</td>\n",
              "      <td>0.077285</td>\n",
              "      <td>0.128103</td>\n",
              "      <td>0.029575</td>\n",
              "      <td>-0.018240</td>\n",
              "      <td>0.111676</td>\n",
              "      <td>-0.066775</td>\n",
              "      <td>-0.049882</td>\n",
              "      <td>0.168336</td>\n",
              "      <td>-0.016701</td>\n",
              "      <td>-0.174501</td>\n",
              "      <td>-0.181014</td>\n",
              "    </tr>\n",
              "    <tr>\n",
              "      <th>6697</th>\n",
              "      <td>4</td>\n",
              "      <td>3.0</td>\n",
              "      <td>34.0</td>\n",
              "      <td>157.48</td>\n",
              "      <td>0</td>\n",
              "      <td>1</td>\n",
              "      <td>0</td>\n",
              "      <td>0</td>\n",
              "      <td>0</td>\n",
              "      <td>0</td>\n",
              "      <td>0</td>\n",
              "      <td>0</td>\n",
              "      <td>0</td>\n",
              "      <td>0</td>\n",
              "      <td>-0.166879</td>\n",
              "      <td>0.180570</td>\n",
              "      <td>-0.012215</td>\n",
              "      <td>-0.028121</td>\n",
              "      <td>-0.055845</td>\n",
              "      <td>0.062271</td>\n",
              "      <td>-0.043402</td>\n",
              "      <td>0.014895</td>\n",
              "      <td>-0.014930</td>\n",
              "      <td>0.052823</td>\n",
              "      <td>-0.014623</td>\n",
              "      <td>-0.176980</td>\n",
              "      <td>-0.125842</td>\n",
              "      <td>-0.169145</td>\n",
              "      <td>-0.024451</td>\n",
              "      <td>0.250877</td>\n",
              "      <td>0.245869</td>\n",
              "      <td>0.335011</td>\n",
              "      <td>0.319762</td>\n",
              "      <td>0.188893</td>\n",
              "      <td>-0.173662</td>\n",
              "      <td>0.143485</td>\n",
              "      <td>-0.123787</td>\n",
              "      <td>0.063177</td>\n",
              "      <td>0.106794</td>\n",
              "      <td>0.099787</td>\n",
              "      <td>...</td>\n",
              "      <td>-0.035129</td>\n",
              "      <td>-0.162769</td>\n",
              "      <td>-0.129591</td>\n",
              "      <td>-0.131021</td>\n",
              "      <td>-0.041577</td>\n",
              "      <td>0.205729</td>\n",
              "      <td>0.238938</td>\n",
              "      <td>0.294653</td>\n",
              "      <td>0.297104</td>\n",
              "      <td>0.172006</td>\n",
              "      <td>-0.136341</td>\n",
              "      <td>0.135813</td>\n",
              "      <td>-0.089312</td>\n",
              "      <td>0.047297</td>\n",
              "      <td>0.086934</td>\n",
              "      <td>0.085033</td>\n",
              "      <td>-0.355880</td>\n",
              "      <td>0.075668</td>\n",
              "      <td>0.024286</td>\n",
              "      <td>0.032559</td>\n",
              "      <td>-0.053763</td>\n",
              "      <td>-0.088697</td>\n",
              "      <td>-0.003803</td>\n",
              "      <td>0.062215</td>\n",
              "      <td>-0.194770</td>\n",
              "      <td>-0.014712</td>\n",
              "      <td>0.091923</td>\n",
              "      <td>0.035107</td>\n",
              "      <td>0.097921</td>\n",
              "      <td>0.037962</td>\n",
              "      <td>0.217107</td>\n",
              "      <td>-0.005214</td>\n",
              "      <td>-0.033605</td>\n",
              "      <td>0.079224</td>\n",
              "      <td>-0.075290</td>\n",
              "      <td>0.029686</td>\n",
              "      <td>0.235217</td>\n",
              "      <td>-0.004497</td>\n",
              "      <td>-0.024081</td>\n",
              "      <td>-0.073081</td>\n",
              "    </tr>\n",
              "    <tr>\n",
              "      <th>40961</th>\n",
              "      <td>12</td>\n",
              "      <td>5.0</td>\n",
              "      <td>34.0</td>\n",
              "      <td>170.18</td>\n",
              "      <td>0</td>\n",
              "      <td>0</td>\n",
              "      <td>0</td>\n",
              "      <td>0</td>\n",
              "      <td>1</td>\n",
              "      <td>0</td>\n",
              "      <td>0</td>\n",
              "      <td>0</td>\n",
              "      <td>0</td>\n",
              "      <td>0</td>\n",
              "      <td>-0.066442</td>\n",
              "      <td>0.224263</td>\n",
              "      <td>0.037179</td>\n",
              "      <td>0.009829</td>\n",
              "      <td>-0.112730</td>\n",
              "      <td>-0.115270</td>\n",
              "      <td>-0.122052</td>\n",
              "      <td>0.122730</td>\n",
              "      <td>-0.088052</td>\n",
              "      <td>-0.284073</td>\n",
              "      <td>-0.054355</td>\n",
              "      <td>-0.126457</td>\n",
              "      <td>-0.027921</td>\n",
              "      <td>-0.219331</td>\n",
              "      <td>-0.115396</td>\n",
              "      <td>0.392813</td>\n",
              "      <td>0.153751</td>\n",
              "      <td>0.326180</td>\n",
              "      <td>0.083438</td>\n",
              "      <td>0.132755</td>\n",
              "      <td>-0.210482</td>\n",
              "      <td>0.021139</td>\n",
              "      <td>0.021604</td>\n",
              "      <td>0.007161</td>\n",
              "      <td>0.232730</td>\n",
              "      <td>0.022453</td>\n",
              "      <td>...</td>\n",
              "      <td>-0.030711</td>\n",
              "      <td>-0.121968</td>\n",
              "      <td>-0.095675</td>\n",
              "      <td>-0.134090</td>\n",
              "      <td>-0.008473</td>\n",
              "      <td>0.269625</td>\n",
              "      <td>0.187324</td>\n",
              "      <td>0.236900</td>\n",
              "      <td>0.169676</td>\n",
              "      <td>0.121995</td>\n",
              "      <td>-0.268020</td>\n",
              "      <td>0.127432</td>\n",
              "      <td>-0.104891</td>\n",
              "      <td>0.060089</td>\n",
              "      <td>0.044109</td>\n",
              "      <td>0.114954</td>\n",
              "      <td>-0.271698</td>\n",
              "      <td>-0.070706</td>\n",
              "      <td>0.082381</td>\n",
              "      <td>0.034548</td>\n",
              "      <td>0.013920</td>\n",
              "      <td>-0.110326</td>\n",
              "      <td>0.009639</td>\n",
              "      <td>0.041866</td>\n",
              "      <td>-0.088987</td>\n",
              "      <td>-0.022789</td>\n",
              "      <td>0.130788</td>\n",
              "      <td>-0.034107</td>\n",
              "      <td>0.031006</td>\n",
              "      <td>0.052912</td>\n",
              "      <td>0.294393</td>\n",
              "      <td>-0.019653</td>\n",
              "      <td>0.034178</td>\n",
              "      <td>0.100067</td>\n",
              "      <td>-0.053147</td>\n",
              "      <td>0.020405</td>\n",
              "      <td>0.150230</td>\n",
              "      <td>-0.035187</td>\n",
              "      <td>0.007651</td>\n",
              "      <td>-0.198536</td>\n",
              "    </tr>\n",
              "  </tbody>\n",
              "</table>\n",
              "<p>5 rows × 114 columns</p>\n",
              "</div>"
            ],
            "text/plain": [
              "       size  quality  bra_size  height  ...        46        47        48        49\n",
              "25911    15      5.0      38.0  162.56  ...  0.191078 -0.064777  0.034369 -0.078304\n",
              "29080    26      5.0      42.0  167.64  ...  0.167714 -0.081990  0.064875 -0.132621\n",
              "40990     4      3.0      30.0  167.64  ...  0.168336 -0.016701 -0.174501 -0.181014\n",
              "6697      4      3.0      34.0  157.48  ...  0.235217 -0.004497 -0.024081 -0.073081\n",
              "40961    12      5.0      34.0  170.18  ...  0.150230 -0.035187  0.007651 -0.198536\n",
              "\n",
              "[5 rows x 114 columns]"
            ]
          },
          "metadata": {
            "tags": []
          },
          "execution_count": 232
        }
      ]
    },
    {
      "cell_type": "code",
      "metadata": {
        "id": "bEZv642QUc9b",
        "colab_type": "code",
        "outputId": "1ebb2a14-9140-41a6-a86e-d9caa8261dda",
        "colab": {
          "base_uri": "https://localhost:8080/",
          "height": 185
        }
      },
      "source": [
        "gb_clf = GradientBoostingClassifier(n_estimators=600, learning_rate=0.1, max_features=\"sqrt\", max_depth=15, random_state=0)\n",
        "gb_clf.fit(x_train1, y_train1)"
      ],
      "execution_count": 0,
      "outputs": [
        {
          "output_type": "execute_result",
          "data": {
            "text/plain": [
              "GradientBoostingClassifier(ccp_alpha=0.0, criterion='friedman_mse', init=None,\n",
              "                           learning_rate=0.1, loss='deviance', max_depth=15,\n",
              "                           max_features='sqrt', max_leaf_nodes=None,\n",
              "                           min_impurity_decrease=0.0, min_impurity_split=None,\n",
              "                           min_samples_leaf=1, min_samples_split=2,\n",
              "                           min_weight_fraction_leaf=0.0, n_estimators=600,\n",
              "                           n_iter_no_change=None, presort='deprecated',\n",
              "                           random_state=0, subsample=1.0, tol=0.0001,\n",
              "                           validation_fraction=0.1, verbose=0,\n",
              "                           warm_start=False)"
            ]
          },
          "metadata": {
            "tags": []
          },
          "execution_count": 226
        }
      ]
    },
    {
      "cell_type": "code",
      "metadata": {
        "colab_type": "code",
        "id": "SHvrAYzDEh7H",
        "colab": {}
      },
      "source": [
        "x_test1 = df_item_tes1t.drop(columns=[\"fit\"])\n",
        "y_test1 = df_item_tes1t[\"fit\"]"
      ],
      "execution_count": 0,
      "outputs": []
    },
    {
      "cell_type": "code",
      "metadata": {
        "colab_type": "code",
        "id": "-2k7FHCDEh7L",
        "colab": {}
      },
      "source": [
        "predictions1 = gb_clf.predict(x_test1)"
      ],
      "execution_count": 0,
      "outputs": []
    },
    {
      "cell_type": "code",
      "metadata": {
        "colab_type": "code",
        "outputId": "94bfc856-9606-45fc-e77d-f3b4abed4118",
        "id": "31U_GRIuEh7O",
        "colab": {
          "base_uri": "https://localhost:8080/",
          "height": 638
        }
      },
      "source": [
        "false_positive_rate11, true_positive_rate11, threshold1 = roc_curve(y_test1, predictions1)\n",
        "print('roc_auc_score for DecisionTree: ', roc_auc_score(y_test1, predictions1))\n",
        "\n",
        "# Plot ROC curves\n",
        "plt.subplots(1, figsize=(10,10))\n",
        "plt.title('Receiver Operating Characteristic - DecisionTree')\n",
        "plt.plot(false_positive_rate11, true_positive_rate11)\n",
        "plt.plot([0, 1], ls=\"--\")\n",
        "plt.plot([0, 0], [1, 0] , c=\".7\"), plt.plot([1, 1] , c=\".7\")\n",
        "plt.ylabel('True Positive Rate')\n",
        "plt.xlabel('False Positive Rate')\n",
        "plt.show()"
      ],
      "execution_count": 0,
      "outputs": [
        {
          "output_type": "stream",
          "text": [
            "roc_auc_score for DecisionTree:  0.6199320580242489\n"
          ],
          "name": "stdout"
        },
        {
          "output_type": "display_data",
          "data": {
            "image/png": "[encoded data removed]",
            "text/plain": [
              "<Figure size 720x720 with 1 Axes>"
            ]
          },
          "metadata": {
            "tags": [],
            "needs_background": "light"
          }
        }
      ]
    },
    {
      "cell_type": "code",
      "metadata": {
        "id": "uD-HnNQjhGDr",
        "colab_type": "code",
        "colab": {}
      },
      "source": [
        ""
      ],
      "execution_count": 0,
      "outputs": []
    },
    {
      "cell_type": "code",
      "metadata": {
        "id": "Qj2hGT52H0-9",
        "colab_type": "code",
        "colab": {}
      },
      "source": [
        ""
      ],
      "execution_count": 0,
      "outputs": []
    },
    {
      "cell_type": "code",
      "metadata": {
        "id": "pfzhPakjH1Ec",
        "colab_type": "code",
        "colab": {}
      },
      "source": [
        ""
      ],
      "execution_count": 0,
      "outputs": []
    },
    {
      "cell_type": "code",
      "metadata": {
        "id": "UR9yIHs1H1H2",
        "colab_type": "code",
        "colab": {}
      },
      "source": [
        ""
      ],
      "execution_count": 0,
      "outputs": []
    },
    {
      "cell_type": "code",
      "metadata": {
        "id": "gKfVACV9H1B5",
        "colab_type": "code",
        "colab": {}
      },
      "source": [
        ""
      ],
      "execution_count": 0,
      "outputs": []
    }
  ]
}